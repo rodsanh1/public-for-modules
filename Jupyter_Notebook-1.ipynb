{
 "cells": [
  {
   "cell_type": "markdown",
   "metadata": {},
   "source": [
    "<center>\n",
    "    <img src=\"https://cf-courses-data.s3.us.cloud-object-storage.appdomain.cloud/IBMDeveloperSkillsNetwork-DS0105EN-SkillsNetwork/labs/Module2/images/SN_web_lightmode.png\" width=\"300\" alt=\"cognitiveclass.ai logo\">\n",
    "</center>\n"
   ]
  },
  {
   "cell_type": "markdown",
   "metadata": {},
   "source": [
    "#### Add your code below following the instructions given in the course\n"
   ]
  },
  {
   "cell_type": "code",
   "execution_count": null,
   "metadata": {},
   "outputs": [],
   "source": [
    "# Mi cuaderno de Jupyter para IBM\n",
    "\n",
    "## Introducción\n",
    "La creacion de este cuaderno ha sido solicitada para el proyecto final de un módulo del curso de Ciencia de Datos.\n",
    "\n",
    "## Lenguajes de la Ciencia de Datos\n",
    "- Python\n",
    "- R (Rstudio)\n",
    "- SQL\n",
    "\n",
    "## Principales bibliotecas de la Ciencia de Datos\n",
    "- Pandas\n",
    "- Numpy\n",
    "- Matplotlib\n",
    "- Seaborn\n",
    "- Scikit-learn\n",
    "- TensorFlow\n",
    "- PyTorch\n",
    "\n",
    "# Herramientas de Ciencia de Datos\n",
    "| Herramientas    | Descripciones                            |\n",
    "|-----------------|------------------------------------------|\n",
    "| Jupyter         | Entorno interactivo para notebooks       |\n",
    "| Git             | Control de versiones y colaboración de pares      |\n",
    "| Docker          | Contenedores para despliegue de aplicaciones |\n",
    "| Tableau         | Herramienta para visualización de datos  |\n",
    "\n",
    "# Ejemplo de Expresiones Aritméticas\n",
    "- Suma (3+2)\n",
    "- Resta o sustraccion (3-2)\n",
    "- Multiplicación (3*2)\n",
    "- División (3/2)\n",
    "\n",
    "# Suma\n",
    "    result_sum = 3 + 2\n",
    "    print(\"El resultado para la suma es:\", result_sum\n",
    "\n",
    "# Multiplicación\n",
    "    result_multiply = 3 * 2\n",
    "    print(\"El resultado para la multiplicación es:\", result_multiply)%%!\n",
    "\n",
    "# Ahora convirtiéndomelos minutos en horas\n",
    "minutos = 240\n",
    "horas = minutos / 60\n",
    "    print(f\"{minutos} minutos  son {horas} horas.\")\n",
    "\n",
    "# Listando objetivos\n",
    "          objetivos= [\n",
    "              \"Entender el contexto de la Ciencia de Datos\",\n",
    "              \"Aprender las principales herramientas de la Ciencia de Datos\",\n",
    "              \"Aprender a usar Jupyterlite\",\n",
    "              \"Practicar con bibliotecas como Pandas y Matplotlib\",\n",
    "              \"Crear visualizaciones de datos\",\n",
    "              \"Desarrollar proyectos en equipo\"\n",
    "]\n",
    "\n",
    "print(\"Objetivos del proyecto final:\")\n",
    "for objetivo in objetivos:\n",
    "    print(\"- \" + objetivo)\n",
    "\n",
    "## Autor\n",
    "          Este cuaderno fue creado por Rodrigo A. Sanhueza para el módulo de \"Herramientas para la Ciencia de Datos\" del curso de IBM en Coursera."
   ]
  }
 ],
 "metadata": {
  "kernelspec": {
   "display_name": "Python 3 (ipykernel)",
   "language": "python",
   "name": "python3"
  },
  "language_info": {
   "codemirror_mode": {
    "name": "ipython",
    "version": 3
   },
   "file_extension": ".py",
   "mimetype": "text/x-python",
   "name": "python",
   "nbconvert_exporter": "python",
   "pygments_lexer": "ipython3",
   "version": "3.11.9"
  }
 },
 "nbformat": 4,
 "nbformat_minor": 4
}
