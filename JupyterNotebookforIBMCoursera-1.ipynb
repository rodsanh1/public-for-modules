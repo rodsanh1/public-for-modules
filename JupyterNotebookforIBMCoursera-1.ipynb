{
 "cells": [
  {
   "cell_type": "markdown",
   "id": "f2174d99-156f-4570-a59c-bef98838ecca",
   "metadata": {},
   "source": [
    "# Data Science Tools and Ecosystem\n",
    "\n",
    "## In this notebook Data Science Tools and Ecosystem are summarized\n",
    "\n",
    "## Some of the popular languages that Data Scientist use are:\n",
    "1. Python\n",
    "2. R\n",
    "3. SQL\n",
    "4. Scala\n",
    "5. Java\n",
    "6. C++\n",
    "7. Julia\n",
    "8. Javascript\n",
    "9. Php\n",
    "10. Go\n",
    "11. Ruby\n",
    "12. Visual Basic\n",
    "\n",
    "## Some of the commonly used libraries used by DS include:\n",
    "1. Pandas\n",
    "2. numpy\n",
    "3. matplotlib\n",
    "4. seaborn\n",
    "5. scikit-learn\n",
    "6. tensorflow\n",
    "7. pytorch\n",
    "8. apache spark\n",
    "9. vegas\n",
    "10. big dl\n",
    "11. ggplot2\n",
    "\n",
    "### DS Tools\n",
    "\n",
    "| Tool     | Description                              |\n",
    "|-----------------|------------------------------------------|\n",
    "| Jupyter         | Entorno interactivo para notebooks       |\n",
    "| Git             | Control de versiones y colaboración      |\n",
    "| Docker          | Contenedores para despliegue de aplicaciones |\n",
    "| Apache Spark    | Procesamiento de grandes volúmenes de datos |\n",
    "| Tableau         | Herramienta para visualización de datos  |\n",
    "\n",
    "## Below are a few examples of evaluating arithmetic expressions in Python\n",
    "\n",
    "### This is a simple arithmetic  expression to multiply then add integers"
   ]
  },
  {
   "cell_type": "code",
   "execution_count": 13,
   "id": "5ec6730f-5599-42d8-8463-ec25df38da6d",
   "metadata": {},
   "outputs": [
    {
     "name": "stdout",
     "output_type": "stream",
     "text": [
      "17\n",
      "6\n",
      "5\n"
     ]
    }
   ],
   "source": [
    "# Multiply and Sum\n",
    "result_multiply = (3*4)+5\n",
    "print(result_multiply)\n",
    "\n",
    "# Multiply\n",
    "result_multiply = 3 * 2\n",
    "print(result_multiply)\n",
    "\n",
    "#Add integers\n",
    "result_sum = 3 + 2\n",
    "print(result_sum)"
   ]
  },
  {
   "cell_type": "code",
   "execution_count": 12,
   "id": "b6832a4a-53fb-4106-ac69-ae95425495b4",
   "metadata": {},
   "outputs": [
    {
     "data": {
      "text/plain": [
       "3.3333333333333335"
      ]
     },
     "execution_count": 12,
     "metadata": {},
     "output_type": "execute_result"
    }
   ],
   "source": [
    "# This will convert 200 minutes to hours by dividing by 60\n",
    "200/60"
   ]
  },
  {
   "cell_type": "markdown",
   "id": "e766cc99-449b-4268-b6ad-ae34c2aae441",
   "metadata": {},
   "source": [
    "# Objectives\n",
    "- Add comments to code cells\n",
    "- Create markdown cells\n",
    "- Add ordered and unordered lists to markdown cells\n",
    "- Format contest or markdown cells with heading styles"
   ]
  },
  {
   "cell_type": "markdown",
   "id": "86197ade-c6ea-4bc1-bef8-70d1353211d8",
   "metadata": {},
   "source": [
    "# Author\n",
    "Rodrigo Sanhueza"
   ]
  },
  {
   "cell_type": "code",
   "execution_count": null,
   "id": "74f869d0-7a52-4eab-9502-01a3ffadefda",
   "metadata": {},
   "outputs": [],
   "source": []
  }
 ],
 "metadata": {
  "kernelspec": {
   "display_name": "Python 3 (ipykernel)",
   "language": "python",
   "name": "python3"
  },
  "language_info": {
   "codemirror_mode": {
    "name": "ipython",
    "version": 3
   },
   "file_extension": ".py",
   "mimetype": "text/x-python",
   "name": "python",
   "nbconvert_exporter": "python",
   "pygments_lexer": "ipython3",
   "version": "3.11.9"
  }
 },
 "nbformat": 4,
 "nbformat_minor": 5
}
